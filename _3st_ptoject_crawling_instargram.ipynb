{
 "cells": [
  {
   "cell_type": "code",
   "execution_count": 1,
   "id": "3ef0fbdd",
   "metadata": {
    "ExecuteTime": {
     "end_time": "2023-10-21T02:56:49.665335Z",
     "start_time": "2023-10-21T02:56:41.706322Z"
    }
   },
   "outputs": [
    {
     "name": "stdout",
     "output_type": "stream",
     "text": [
      "Collecting instagrapi\n",
      "  Downloading instagrapi-2.0.0.tar.gz (95 kB)\n",
      "     ---------------------------------------- 95.6/95.6 kB 5.7 MB/s eta 0:00:00\n",
      "  Preparing metadata (setup.py): started\n",
      "  Preparing metadata (setup.py): finished with status 'done'\n",
      "Requirement already satisfied: requests<3.0,>=2.25.1 in c:\\users\\user\\anaconda3\\lib\\site-packages (from instagrapi) (2.28.1)\n",
      "Requirement already satisfied: PySocks==1.7.1 in c:\\users\\user\\anaconda3\\lib\\site-packages (from instagrapi) (1.7.1)\n",
      "Collecting pydantic==1.10.9\n",
      "  Downloading pydantic-1.10.9-cp39-cp39-win_amd64.whl (2.2 MB)\n",
      "     ---------------------------------------- 2.2/2.2 MB 13.9 MB/s eta 0:00:00\n",
      "Collecting pycryptodomex==3.18.0\n",
      "  Downloading pycryptodomex-3.18.0-cp35-abi3-win_amd64.whl (1.7 MB)\n",
      "     ---------------------------------------- 1.7/1.7 MB 18.4 MB/s eta 0:00:00\n",
      "Requirement already satisfied: typing-extensions>=4.2.0 in c:\\users\\user\\anaconda3\\lib\\site-packages (from pydantic==1.10.9->instagrapi) (4.3.0)\n",
      "Requirement already satisfied: certifi>=2017.4.17 in c:\\users\\user\\anaconda3\\lib\\site-packages (from requests<3.0,>=2.25.1->instagrapi) (2022.9.14)\n",
      "Requirement already satisfied: urllib3<1.27,>=1.21.1 in c:\\users\\user\\anaconda3\\lib\\site-packages (from requests<3.0,>=2.25.1->instagrapi) (1.26.11)\n",
      "Requirement already satisfied: charset-normalizer<3,>=2 in c:\\users\\user\\anaconda3\\lib\\site-packages (from requests<3.0,>=2.25.1->instagrapi) (2.0.4)\n",
      "Requirement already satisfied: idna<4,>=2.5 in c:\\users\\user\\anaconda3\\lib\\site-packages (from requests<3.0,>=2.25.1->instagrapi) (3.3)\n",
      "Building wheels for collected packages: instagrapi\n",
      "  Building wheel for instagrapi (setup.py): started\n",
      "  Building wheel for instagrapi (setup.py): finished with status 'done'\n",
      "  Created wheel for instagrapi: filename=instagrapi-2.0.0-py3-none-any.whl size=109337 sha256=ef9f4fa8758c8743e518a79eda29426bc480d15f6b34926327a88a8953c3b30a\n",
      "  Stored in directory: c:\\users\\user\\appdata\\local\\pip\\cache\\wheels\\d8\\c7\\48\\d66742550c58dfaeb4faac0b71cde8acccf73ba7192f21f05c\n",
      "Successfully built instagrapi\n",
      "Installing collected packages: pydantic, pycryptodomex, instagrapi\n",
      "Successfully installed instagrapi-2.0.0 pycryptodomex-3.18.0 pydantic-1.10.9\n"
     ]
    }
   ],
   "source": [
    "!pip install instagrapi"
   ]
  },
  {
   "cell_type": "code",
   "execution_count": 6,
   "id": "d7c438bf",
   "metadata": {
    "ExecuteTime": {
     "end_time": "2023-10-21T02:59:46.928647Z",
     "start_time": "2023-10-21T02:59:46.623241Z"
    }
   },
   "outputs": [],
   "source": [
    "import instagrapi"
   ]
  },
  {
   "cell_type": "code",
   "execution_count": 7,
   "id": "2fae112e",
   "metadata": {
    "ExecuteTime": {
     "end_time": "2023-10-21T02:59:51.950411Z",
     "start_time": "2023-10-21T02:59:51.927598Z"
    }
   },
   "outputs": [
    {
     "data": {
      "text/plain": [
       "<module 'instagrapi' from 'C:\\\\Users\\\\user\\\\anaconda3\\\\lib\\\\site-packages\\\\instagrapi\\\\__init__.py'>"
      ]
     },
     "execution_count": 7,
     "metadata": {},
     "output_type": "execute_result"
    }
   ],
   "source": [
    "instagrapi"
   ]
  },
  {
   "cell_type": "code",
   "execution_count": 17,
   "id": "91aadf43",
   "metadata": {
    "ExecuteTime": {
     "end_time": "2023-10-21T03:49:52.390474Z",
     "start_time": "2023-10-21T03:49:48.687476Z"
    }
   },
   "outputs": [
    {
     "ename": "BadPassword",
     "evalue": "The password you entered is incorrect. Please try again. If you are sure that the password is correct, then change your IP address, because it is added to the blacklist of the Instagram Server",
     "output_type": "error",
     "traceback": [
      "\u001b[1;31m---------------------------------------------------------------------------\u001b[0m",
      "\u001b[1;31mHTTPError\u001b[0m                                 Traceback (most recent call last)",
      "\u001b[1;32m~\\anaconda3\\lib\\site-packages\\instagrapi\\mixins\\private.py\u001b[0m in \u001b[0;36m_send_private_request\u001b[1;34m(self, endpoint, data, params, login, with_signature, headers, extra_sig, domain)\u001b[0m\n\u001b[0;32m    359\u001b[0m             \u001b[0mself\u001b[0m\u001b[1;33m.\u001b[0m\u001b[0mlast_response\u001b[0m \u001b[1;33m=\u001b[0m \u001b[0mresponse\u001b[0m\u001b[1;33m\u001b[0m\u001b[1;33m\u001b[0m\u001b[0m\n\u001b[1;32m--> 360\u001b[1;33m             \u001b[0mresponse\u001b[0m\u001b[1;33m.\u001b[0m\u001b[0mraise_for_status\u001b[0m\u001b[1;33m(\u001b[0m\u001b[1;33m)\u001b[0m\u001b[1;33m\u001b[0m\u001b[1;33m\u001b[0m\u001b[0m\n\u001b[0m\u001b[0;32m    361\u001b[0m             \u001b[1;31m# last_json - for Sentry context in traceback\u001b[0m\u001b[1;33m\u001b[0m\u001b[1;33m\u001b[0m\u001b[0m\n",
      "\u001b[1;32m~\\anaconda3\\lib\\site-packages\\requests\\models.py\u001b[0m in \u001b[0;36mraise_for_status\u001b[1;34m(self)\u001b[0m\n\u001b[0;32m   1020\u001b[0m         \u001b[1;32mif\u001b[0m \u001b[0mhttp_error_msg\u001b[0m\u001b[1;33m:\u001b[0m\u001b[1;33m\u001b[0m\u001b[1;33m\u001b[0m\u001b[0m\n\u001b[1;32m-> 1021\u001b[1;33m             \u001b[1;32mraise\u001b[0m \u001b[0mHTTPError\u001b[0m\u001b[1;33m(\u001b[0m\u001b[0mhttp_error_msg\u001b[0m\u001b[1;33m,\u001b[0m \u001b[0mresponse\u001b[0m\u001b[1;33m=\u001b[0m\u001b[0mself\u001b[0m\u001b[1;33m)\u001b[0m\u001b[1;33m\u001b[0m\u001b[1;33m\u001b[0m\u001b[0m\n\u001b[0m\u001b[0;32m   1022\u001b[0m \u001b[1;33m\u001b[0m\u001b[0m\n",
      "\u001b[1;31mHTTPError\u001b[0m: 400 Client Error: Bad Request for url: https://i.instagram.com/api/v1/accounts/login/",
      "\nDuring handling of the above exception, another exception occurred:\n",
      "\u001b[1;31mBadPassword\u001b[0m                               Traceback (most recent call last)",
      "\u001b[1;32m~\\AppData\\Local\\Temp\\ipykernel_8312\\1187186362.py\u001b[0m in \u001b[0;36m<module>\u001b[1;34m\u001b[0m\n\u001b[0;32m      2\u001b[0m \u001b[1;33m\u001b[0m\u001b[0m\n\u001b[0;32m      3\u001b[0m \u001b[0mcl\u001b[0m \u001b[1;33m=\u001b[0m \u001b[0mClient\u001b[0m\u001b[1;33m(\u001b[0m\u001b[1;33m)\u001b[0m\u001b[1;33m\u001b[0m\u001b[1;33m\u001b[0m\u001b[0m\n\u001b[1;32m----> 4\u001b[1;33m \u001b[0mcl\u001b[0m\u001b[1;33m.\u001b[0m\u001b[0mlogin\u001b[0m\u001b[1;33m(\u001b[0m\u001b[1;34m'jangjw.smart@gmail.com'\u001b[0m\u001b[1;33m,\u001b[0m \u001b[1;34m'7QVfn3GE.zx5wTn'\u001b[0m\u001b[1;33m)\u001b[0m\u001b[1;33m\u001b[0m\u001b[1;33m\u001b[0m\u001b[0m\n\u001b[0m\u001b[0;32m      5\u001b[0m \u001b[1;33m\u001b[0m\u001b[0m\n\u001b[0;32m      6\u001b[0m \u001b[0muser_id\u001b[0m \u001b[1;33m=\u001b[0m \u001b[0mcl\u001b[0m\u001b[1;33m.\u001b[0m\u001b[0muser_id_from_username\u001b[0m\u001b[1;33m(\u001b[0m\u001b[1;34m'jangjw.smart@gmail.com'\u001b[0m\u001b[1;33m)\u001b[0m\u001b[1;33m\u001b[0m\u001b[1;33m\u001b[0m\u001b[0m\n",
      "\u001b[1;32m~\\anaconda3\\lib\\site-packages\\instagrapi\\mixins\\auth.py\u001b[0m in \u001b[0;36mlogin\u001b[1;34m(self, username, password, relogin, verification_code)\u001b[0m\n\u001b[0;32m    439\u001b[0m         }\n\u001b[0;32m    440\u001b[0m         \u001b[1;32mtry\u001b[0m\u001b[1;33m:\u001b[0m\u001b[1;33m\u001b[0m\u001b[1;33m\u001b[0m\u001b[0m\n\u001b[1;32m--> 441\u001b[1;33m             \u001b[0mlogged\u001b[0m \u001b[1;33m=\u001b[0m \u001b[0mself\u001b[0m\u001b[1;33m.\u001b[0m\u001b[0mprivate_request\u001b[0m\u001b[1;33m(\u001b[0m\u001b[1;34m\"accounts/login/\"\u001b[0m\u001b[1;33m,\u001b[0m \u001b[0mdata\u001b[0m\u001b[1;33m,\u001b[0m \u001b[0mlogin\u001b[0m\u001b[1;33m=\u001b[0m\u001b[1;32mTrue\u001b[0m\u001b[1;33m)\u001b[0m\u001b[1;33m\u001b[0m\u001b[1;33m\u001b[0m\u001b[0m\n\u001b[0m\u001b[0;32m    442\u001b[0m             self.authorization_data = self.parse_authorization(\n\u001b[0;32m    443\u001b[0m                 \u001b[0mself\u001b[0m\u001b[1;33m.\u001b[0m\u001b[0mlast_response\u001b[0m\u001b[1;33m.\u001b[0m\u001b[0mheaders\u001b[0m\u001b[1;33m.\u001b[0m\u001b[0mget\u001b[0m\u001b[1;33m(\u001b[0m\u001b[1;34m\"ig-set-authorization\"\u001b[0m\u001b[1;33m)\u001b[0m\u001b[1;33m\u001b[0m\u001b[1;33m\u001b[0m\u001b[0m\n",
      "\u001b[1;32m~\\anaconda3\\lib\\site-packages\\instagrapi\\mixins\\private.py\u001b[0m in \u001b[0;36mprivate_request\u001b[1;34m(self, endpoint, data, params, login, with_signature, headers, extra_sig, domain)\u001b[0m\n\u001b[0;32m    540\u001b[0m                 \u001b[0mself\u001b[0m\u001b[1;33m.\u001b[0m\u001b[0mchallenge_resolve\u001b[0m\u001b[1;33m(\u001b[0m\u001b[0mself\u001b[0m\u001b[1;33m.\u001b[0m\u001b[0mlast_json\u001b[0m\u001b[1;33m)\u001b[0m\u001b[1;33m\u001b[0m\u001b[1;33m\u001b[0m\u001b[0m\n\u001b[0;32m    541\u001b[0m             \u001b[1;32melse\u001b[0m\u001b[1;33m:\u001b[0m\u001b[1;33m\u001b[0m\u001b[1;33m\u001b[0m\u001b[0m\n\u001b[1;32m--> 542\u001b[1;33m                 \u001b[1;32mraise\u001b[0m \u001b[0me\u001b[0m\u001b[1;33m\u001b[0m\u001b[1;33m\u001b[0m\u001b[0m\n\u001b[0m\u001b[0;32m    543\u001b[0m             \u001b[1;32mif\u001b[0m \u001b[0mlogin\u001b[0m \u001b[1;32mand\u001b[0m \u001b[0mself\u001b[0m\u001b[1;33m.\u001b[0m\u001b[0muser_id\u001b[0m\u001b[1;33m:\u001b[0m\u001b[1;33m\u001b[0m\u001b[1;33m\u001b[0m\u001b[0m\n\u001b[0;32m    544\u001b[0m                 \u001b[1;31m# After challenge resolve return last_json\u001b[0m\u001b[1;33m\u001b[0m\u001b[1;33m\u001b[0m\u001b[0m\n",
      "\u001b[1;32m~\\anaconda3\\lib\\site-packages\\instagrapi\\mixins\\private.py\u001b[0m in \u001b[0;36mprivate_request\u001b[1;34m(self, endpoint, data, params, login, with_signature, headers, extra_sig, domain)\u001b[0m\n\u001b[0;32m    525\u001b[0m                 \u001b[0mrandom_delay\u001b[0m\u001b[1;33m(\u001b[0m\u001b[0mdelay_range\u001b[0m\u001b[1;33m=\u001b[0m\u001b[0mself\u001b[0m\u001b[1;33m.\u001b[0m\u001b[0mdelay_range\u001b[0m\u001b[1;33m)\u001b[0m\u001b[1;33m\u001b[0m\u001b[1;33m\u001b[0m\u001b[0m\n\u001b[0;32m    526\u001b[0m             \u001b[0mself\u001b[0m\u001b[1;33m.\u001b[0m\u001b[0mprivate_requests_count\u001b[0m \u001b[1;33m+=\u001b[0m \u001b[1;36m1\u001b[0m\u001b[1;33m\u001b[0m\u001b[1;33m\u001b[0m\u001b[0m\n\u001b[1;32m--> 527\u001b[1;33m             \u001b[0mself\u001b[0m\u001b[1;33m.\u001b[0m\u001b[0m_send_private_request\u001b[0m\u001b[1;33m(\u001b[0m\u001b[0mendpoint\u001b[0m\u001b[1;33m,\u001b[0m \u001b[1;33m**\u001b[0m\u001b[0mkwargs\u001b[0m\u001b[1;33m)\u001b[0m\u001b[1;33m\u001b[0m\u001b[1;33m\u001b[0m\u001b[0m\n\u001b[0m\u001b[0;32m    528\u001b[0m         \u001b[1;32mexcept\u001b[0m \u001b[0mClientRequestTimeout\u001b[0m\u001b[1;33m:\u001b[0m\u001b[1;33m\u001b[0m\u001b[1;33m\u001b[0m\u001b[0m\n\u001b[0;32m    529\u001b[0m             self.logger.info(\n",
      "\u001b[1;32m~\\anaconda3\\lib\\site-packages\\instagrapi\\mixins\\private.py\u001b[0m in \u001b[0;36m_send_private_request\u001b[1;34m(self, endpoint, data, params, login, with_signature, headers, extra_sig, domain)\u001b[0m\n\u001b[0;32m    414\u001b[0m                         \u001b[1;34m\"because it is added to the blacklist of the Instagram Server\"\u001b[0m\u001b[1;33m\u001b[0m\u001b[1;33m\u001b[0m\u001b[0m\n\u001b[0;32m    415\u001b[0m                     ) % msg\n\u001b[1;32m--> 416\u001b[1;33m                     \u001b[1;32mraise\u001b[0m \u001b[0mBadPassword\u001b[0m\u001b[1;33m(\u001b[0m\u001b[1;33m**\u001b[0m\u001b[0mlast_json\u001b[0m\u001b[1;33m)\u001b[0m\u001b[1;33m\u001b[0m\u001b[1;33m\u001b[0m\u001b[0m\n\u001b[0m\u001b[0;32m    417\u001b[0m                 \u001b[1;32melif\u001b[0m \u001b[0merror_type\u001b[0m \u001b[1;33m==\u001b[0m \u001b[1;34m\"two_factor_required\"\u001b[0m\u001b[1;33m:\u001b[0m\u001b[1;33m\u001b[0m\u001b[1;33m\u001b[0m\u001b[0m\n\u001b[0;32m    418\u001b[0m                     \u001b[1;32mif\u001b[0m \u001b[1;32mnot\u001b[0m \u001b[0mlast_json\u001b[0m\u001b[1;33m[\u001b[0m\u001b[1;34m\"message\"\u001b[0m\u001b[1;33m]\u001b[0m\u001b[1;33m:\u001b[0m\u001b[1;33m\u001b[0m\u001b[1;33m\u001b[0m\u001b[0m\n",
      "\u001b[1;31mBadPassword\u001b[0m: The password you entered is incorrect. Please try again. If you are sure that the password is correct, then change your IP address, because it is added to the blacklist of the Instagram Server"
     ]
    }
   ],
   "source": [
    "from instagrapi import Client\n",
    "\n",
    "cl = Client()\n",
    "cl.login('jangjw.smart@gmail.com', '7QVfn3GE.zx5wTn')\n",
    "\n",
    "user_id = cl.user_id_from_username('jangjw.smart@gmail.com')\n",
    "medias = cl.user_medias(user_id, 20)"
   ]
  },
  {
   "cell_type": "code",
   "execution_count": null,
   "id": "24aaaf88",
   "metadata": {},
   "outputs": [],
   "source": []
  }
 ],
 "metadata": {
  "kernelspec": {
   "display_name": "Python 3 (ipykernel)",
   "language": "python",
   "name": "python3"
  },
  "language_info": {
   "codemirror_mode": {
    "name": "ipython",
    "version": 3
   },
   "file_extension": ".py",
   "mimetype": "text/x-python",
   "name": "python",
   "nbconvert_exporter": "python",
   "pygments_lexer": "ipython3",
   "version": "3.9.13"
  },
  "toc": {
   "base_numbering": 1,
   "nav_menu": {},
   "number_sections": true,
   "sideBar": true,
   "skip_h1_title": false,
   "title_cell": "Table of Contents",
   "title_sidebar": "Contents",
   "toc_cell": false,
   "toc_position": {},
   "toc_section_display": true,
   "toc_window_display": false
  },
  "varInspector": {
   "cols": {
    "lenName": 16,
    "lenType": 16,
    "lenVar": 40
   },
   "kernels_config": {
    "python": {
     "delete_cmd_postfix": "",
     "delete_cmd_prefix": "del ",
     "library": "var_list.py",
     "varRefreshCmd": "print(var_dic_list())"
    },
    "r": {
     "delete_cmd_postfix": ") ",
     "delete_cmd_prefix": "rm(",
     "library": "var_list.r",
     "varRefreshCmd": "cat(var_dic_list()) "
    }
   },
   "types_to_exclude": [
    "module",
    "function",
    "builtin_function_or_method",
    "instance",
    "_Feature"
   ],
   "window_display": false
  }
 },
 "nbformat": 4,
 "nbformat_minor": 5
}
